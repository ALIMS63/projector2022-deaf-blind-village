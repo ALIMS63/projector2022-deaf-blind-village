{
 "cells": [
  {
   "cell_type": "code",
   "execution_count": 1,
   "id": "d9971e93",
   "metadata": {},
   "outputs": [],
   "source": [
    "import pandas as pd\n",
    "import numpy as np\n",
    "import seaborn as sns\n",
    "from os import path, getcwd"
   ]
  },
  {
   "cell_type": "code",
   "execution_count": 2,
   "id": "81092c09",
   "metadata": {},
   "outputs": [],
   "source": [
    "DBS_DIR = \"databases\""
   ]
  },
  {
   "cell_type": "code",
   "execution_count": 3,
   "id": "6d66b75e",
   "metadata": {},
   "outputs": [],
   "source": [
    "DB_DIR = f\"{DBS_DIR}/database.csv\"\n",
    "DB_PATH = path.normpath(path.join(path.split(getcwd())[0], DB_DIR))\n",
    "df = pd.read_csv(DB_PATH)"
   ]
  },
  {
   "cell_type": "code",
   "execution_count": 4,
   "id": "2c23d812",
   "metadata": {},
   "outputs": [
    {
     "data": {
      "text/plain": [
       "Index(['ID', 'Пол', 'Дата рождения', 'Субъект РФ', 'Населенный пункт',\n",
       "       'Группа инвалидности', 'Причина инвалидности',\n",
       "       'Этиология потери зрения', 'Возраст потери зрения', 'Состояние зрения',\n",
       "       'Причины потери зрения', 'Этиология потери слуха',\n",
       "       'Возраст потери слуха', 'Состояние слуха', 'Причины потери слуха',\n",
       "       'Знает синдром', 'Название синдрома', 'Наличие других заболеваний',\n",
       "       'Диагноз', 'Понимаемые языки', 'Восприятие информации',\n",
       "       'Передача информации', 'Источники информации', 'Потребность в помощи',\n",
       "       'Передвижение по улице', 'Необходимые ТСР', 'Использование переводчика',\n",
       "       'Тип образования', 'Ученая степень', 'Специальность',\n",
       "       'Работаю в данный момент', 'Желание работать', 'Условия проживания'],\n",
       "      dtype='object')"
      ]
     },
     "execution_count": 4,
     "metadata": {},
     "output_type": "execute_result"
    }
   ],
   "source": [
    "df.columns"
   ]
  },
  {
   "cell_type": "code",
   "execution_count": 5,
   "id": "7b63654c",
   "metadata": {},
   "outputs": [],
   "source": [
    "new_columns = {\n",
    "    'ID':\"id\",\n",
    "    'Пол':\"gender\", \n",
    "    'Дата рождения':\"birthdate\", \n",
    "    'Субъект РФ':\"subject\", \n",
    "    'Населенный пункт':\"locality\", \n",
    "    'Группа инвалидности':\"disability_group\", \n",
    "    'Причина инвалидности':\"disability_cause\",\n",
    "    'Этиология потери зрения':\"sight_loss_etiology\", \n",
    "    'Возраст потери зрения':\"sight_loss_age\",\n",
    "    'Состояние зрения':\"sight_condition\",\n",
    "    'Причины потери зрения':\"sight_loss_cause\",\n",
    "    'Этиология потери слуха':\"hearing_loss_etiology\", \n",
    "    'Возраст потери слуха':\"hearing_loss_age\",\n",
    "    'Состояние слуха':\"hearing_condition\",\n",
    "    'Причины потери слуха':\"hearing_loss_cause\",\n",
    "    'Знает синдром':\"syndrome_awareness\", \n",
    "    'Название синдрома':\"syndrome\",\n",
    "    'Наличие других заболеваний':\"other_diseases\",\n",
    "    'Диагноз':\"diagnosis\", \n",
    "    'Понимаемые языки':\"recognizable_languages\", \n",
    "    'Восприятие информации':\"information_perception\",\n",
    "    'Передача информации':\"communication_methods\", \n",
    "    'Источники информации':\"information_sources\", \n",
    "    'Потребность в помощи':\"assistance_necessity\",\n",
    "    'Передвижение по улице':\"street_movement\", \n",
    "    'Необходимые ТСР':\"rehabilitation_technologies\", \n",
    "    'Использование переводчика':\"translator_assistance\",\n",
    "    'Тип образования':\"education\", \n",
    "    'Ученая степень':\"academic_degree\", \n",
    "    'Специальность':\"specialization\",\n",
    "    'Работаю в данный момент':\"working\", \n",
    "    'Желание работать':\"working_willingness\", \n",
    "    'Условия проживания':\"living_conditions\"\n",
    "}\n",
    "df = df.rename(columns=new_columns)"
   ]
  },
  {
   "cell_type": "code",
   "execution_count": 6,
   "id": "99756621",
   "metadata": {},
   "outputs": [],
   "source": [
    "df[\"syndrome_awareness\"] = df[\"syndrome_awareness\"].str.replace(\"Нет, синдром не установлен или неизвестен\", \"Нет\")\n",
    "df[\"syndrome_awareness\"] = df[\"syndrome_awareness\"].str.replace(\"Да, синдром известен\", \"Да\")"
   ]
  },
  {
   "cell_type": "code",
   "execution_count": 7,
   "id": "17ab2251",
   "metadata": {},
   "outputs": [],
   "source": [
    "df[\"birthdate\"] = df[\"birthdate\"].str.replace('.', \"/\", regex=False)\n",
    "df[\"birthdate\"] = df[\"birthdate\"].str.replace('0000', \"2000\", regex=False)\n",
    "df[\"birthdate\"] = pd.to_datetime(df[\"birthdate\"], dayfirst=True)"
   ]
  },
  {
   "cell_type": "code",
   "execution_count": 8,
   "id": "46ea9654",
   "metadata": {},
   "outputs": [],
   "source": [
    "df.replace(r'^[Дд]а$', True, regex=True, inplace=True)\n",
    "df.replace(r'^[Нн]ет$', False, regex=True, inplace=True)"
   ]
  },
  {
   "cell_type": "code",
   "execution_count": 9,
   "id": "beffe313",
   "metadata": {},
   "outputs": [],
   "source": [
    "boolean_variables = [\"syndrome_awareness\", \"other_diseases\", \"working\", \"working_willingness\"]\n",
    "df[boolean_variables] = df[boolean_variables].astype(\"boolean\")"
   ]
  },
  {
   "cell_type": "code",
   "execution_count": 10,
   "id": "d6371d07",
   "metadata": {},
   "outputs": [
    {
     "name": "stdout",
     "output_type": "stream",
     "text": [
      "<class 'pandas.core.frame.DataFrame'>\n",
      "RangeIndex: 3524 entries, 0 to 3523\n",
      "Data columns (total 33 columns):\n",
      " #   Column                       Non-Null Count  Dtype         \n",
      "---  ------                       --------------  -----         \n",
      " 0   id                           3524 non-null   int64         \n",
      " 1   gender                       3524 non-null   object        \n",
      " 2   birthdate                    3524 non-null   datetime64[ns]\n",
      " 3   subject                      3524 non-null   object        \n",
      " 4   locality                     3524 non-null   object        \n",
      " 5   disability_group             3465 non-null   object        \n",
      " 6   disability_cause             3436 non-null   object        \n",
      " 7   sight_loss_etiology          3497 non-null   object        \n",
      " 8   sight_loss_age               1931 non-null   float64       \n",
      " 9   sight_condition              3485 non-null   object        \n",
      " 10  sight_loss_cause             3354 non-null   object        \n",
      " 11  hearing_loss_etiology        3464 non-null   object        \n",
      " 12  hearing_loss_age             1763 non-null   float64       \n",
      " 13  hearing_condition            3472 non-null   object        \n",
      " 14  hearing_loss_cause           3302 non-null   object        \n",
      " 15  syndrome_awareness           2895 non-null   boolean       \n",
      " 16  syndrome                     614 non-null    object        \n",
      " 17  other_diseases               3287 non-null   boolean       \n",
      " 18  diagnosis                    1716 non-null   object        \n",
      " 19  recognizable_languages       3514 non-null   object        \n",
      " 20  information_perception       3524 non-null   object        \n",
      " 21  communication_methods        3524 non-null   object        \n",
      " 22  information_sources          3524 non-null   object        \n",
      " 23  assistance_necessity         3393 non-null   object        \n",
      " 24  street_movement              3524 non-null   object        \n",
      " 25  rehabilitation_technologies  2331 non-null   object        \n",
      " 26  translator_assistance        3524 non-null   object        \n",
      " 27  education                    3257 non-null   object        \n",
      " 28  academic_degree              1990 non-null   object        \n",
      " 29  specialization               1157 non-null   object        \n",
      " 30  working                      3524 non-null   boolean       \n",
      " 31  working_willingness          3313 non-null   boolean       \n",
      " 32  living_conditions            3524 non-null   object        \n",
      "dtypes: boolean(4), datetime64[ns](1), float64(2), int64(1), object(25)\n",
      "memory usage: 826.1+ KB\n"
     ]
    }
   ],
   "source": [
    "df.info()"
   ]
  },
  {
   "cell_type": "code",
   "execution_count": null,
   "id": "0d8357c6",
   "metadata": {},
   "outputs": [],
   "source": []
  }
 ],
 "metadata": {
  "kernelspec": {
   "display_name": "Python 3 (ipykernel)",
   "language": "python",
   "name": "python3"
  },
  "language_info": {
   "codemirror_mode": {
    "name": "ipython",
    "version": 3
   },
   "file_extension": ".py",
   "mimetype": "text/x-python",
   "name": "python",
   "nbconvert_exporter": "python",
   "pygments_lexer": "ipython3",
   "version": "3.9.1"
  }
 },
 "nbformat": 4,
 "nbformat_minor": 5
}
