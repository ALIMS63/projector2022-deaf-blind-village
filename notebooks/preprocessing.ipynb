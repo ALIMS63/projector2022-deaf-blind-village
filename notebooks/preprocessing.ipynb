{
 "cells": [
  {
   "cell_type": "code",
   "execution_count": 1,
   "id": "d9971e93",
   "metadata": {},
   "outputs": [],
   "source": [
    "import pandas as pd\n",
    "import numpy as np\n",
    "import seaborn as sns\n",
    "from os import path, getcwd\n",
    "from sqlalchemy import create_engine"
   ]
  },
  {
   "cell_type": "code",
   "execution_count": 2,
   "id": "1932fe64",
   "metadata": {},
   "outputs": [],
   "source": [
    "DBS_DIR = \"databases\"\n",
    "def get_database_path(extension=\"csv\"):\n",
    "    db_path = f\"{DBS_DIR}/database.{extension}\"\n",
    "    return path.normpath(path.join(path.split(getcwd())[0], db_path)).replace(\"\\\\\", \"/\")"
   ]
  },
  {
   "cell_type": "code",
   "execution_count": 3,
   "id": "6d66b75e",
   "metadata": {},
   "outputs": [],
   "source": [
    "DB_PATH = get_database_path()\n",
    "df = pd.read_csv(DB_PATH)"
   ]
  },
  {
   "cell_type": "code",
   "execution_count": 4,
   "id": "7b63654c",
   "metadata": {},
   "outputs": [],
   "source": [
    "new_columns = {\n",
    "    'ID':\"id\",\n",
    "    'Пол':\"gender\", \n",
    "    'Дата рождения':\"birthdate\", \n",
    "    'Субъект РФ':\"subject\", \n",
    "    'Населенный пункт':\"locality\", \n",
    "    'Группа инвалидности':\"disability_group\", \n",
    "    'Причина инвалидности':\"disability_cause\",\n",
    "    'Этиология потери зрения':\"sight_loss_etiology\", \n",
    "    'Возраст потери зрения':\"sight_loss_age\",\n",
    "    'Состояние зрения':\"sight_condition\",\n",
    "    'Причины потери зрения':\"sight_loss_cause\",\n",
    "    'Этиология потери слуха':\"hearing_loss_etiology\", \n",
    "    'Возраст потери слуха':\"hearing_loss_age\",\n",
    "    'Состояние слуха':\"hearing_condition\",\n",
    "    'Причины потери слуха':\"hearing_loss_cause\",\n",
    "    'Знает синдром':\"syndrome_awareness\", \n",
    "    'Название синдрома':\"syndrome\",\n",
    "    'Наличие других заболеваний':\"other_diseases\",\n",
    "    'Диагноз':\"diagnosis\", \n",
    "    'Понимаемые языки':\"recognizable_languages\", \n",
    "    'Восприятие информации':\"information_perception\",\n",
    "    'Передача информации':\"communication_methods\", \n",
    "    'Источники информации':\"information_sources\", \n",
    "    'Потребность в помощи':\"assistance_necessity\",\n",
    "    'Передвижение по улице':\"street_movement\", \n",
    "    'Необходимые ТСР':\"rehabilitation_technologies\", \n",
    "    'Использование переводчика':\"translator_assistance\",\n",
    "    'Тип образования':\"education\", \n",
    "    'Ученая степень':\"academic_degree\", \n",
    "    'Специальность':\"specialization\",\n",
    "    'Работаю в данный момент':\"working\", \n",
    "    'Желание работать':\"working_willingness\", \n",
    "    'Условия проживания':\"living_conditions\",\n",
    "    'Дата заполнения':\"recording_date\"\n",
    "}\n",
    "df = df.rename(columns=new_columns)"
   ]
  },
  {
   "cell_type": "code",
   "execution_count": 5,
   "id": "99756621",
   "metadata": {},
   "outputs": [],
   "source": [
    "df[\"syndrome_awareness\"] = df[\"syndrome_awareness\"].str.replace(\"Нет, синдром не установлен или неизвестен\", \"Нет\")\n",
    "df[\"syndrome_awareness\"] = df[\"syndrome_awareness\"].str.replace(\"Да, синдром известен\", \"Да\")"
   ]
  },
  {
   "cell_type": "code",
   "execution_count": 6,
   "id": "17ab2251",
   "metadata": {},
   "outputs": [],
   "source": [
    "df[\"birthdate\"] = df[\"birthdate\"].str.replace('.', \"/\", regex=False)\n",
    "df[\"birthdate\"] = df[\"birthdate\"].str.replace('0000', \"2000\", regex=False)\n",
    "df[\"birthdate\"] = pd.to_datetime(df[\"birthdate\"], dayfirst=True)"
   ]
  },
  {
   "cell_type": "code",
   "execution_count": 7,
   "id": "2b623c52",
   "metadata": {},
   "outputs": [],
   "source": [
    "df[\"recording_date\"] = pd.to_datetime(df[\"recording_date\"], dayfirst=True)"
   ]
  },
  {
   "cell_type": "code",
   "execution_count": 8,
   "id": "46ea9654",
   "metadata": {},
   "outputs": [],
   "source": [
    "df.replace(r'^[Дд]а$', True, regex=True, inplace=True)\n",
    "df.replace(r'^[Нн]ет$', False, regex=True, inplace=True)"
   ]
  },
  {
   "cell_type": "code",
   "execution_count": 9,
   "id": "beffe313",
   "metadata": {},
   "outputs": [],
   "source": [
    "boolean_variables = [\"syndrome_awareness\", \"other_diseases\", \"working\", \"working_willingness\"]\n",
    "df[boolean_variables] = df[boolean_variables].astype(\"boolean\")"
   ]
  },
  {
   "cell_type": "code",
   "execution_count": 10,
   "id": "19ca4a0c",
   "metadata": {},
   "outputs": [],
   "source": [
    "persons_columns = df.columns[1:5]\n",
    "persons = df.loc[:, persons_columns]"
   ]
  },
  {
   "cell_type": "code",
   "execution_count": 11,
   "id": "04865eaa",
   "metadata": {},
   "outputs": [],
   "source": [
    "disability_information_columns = df.columns[5:19]\n",
    "disability_information = df.loc[:, disability_information_columns]"
   ]
  },
  {
   "cell_type": "code",
   "execution_count": 12,
   "id": "55e6120a",
   "metadata": {},
   "outputs": [],
   "source": [
    "additional_information_columns = df.columns[19:]\n",
    "additional_information = df.loc[:, additional_information_columns]"
   ]
  },
  {
   "cell_type": "code",
   "execution_count": 13,
   "id": "a5dc3ff9",
   "metadata": {},
   "outputs": [
    {
     "name": "stdout",
     "output_type": "stream",
     "text": [
      "<class 'pandas.core.frame.DataFrame'>\n",
      "RangeIndex: 4395 entries, 0 to 4394\n",
      "Data columns (total 34 columns):\n",
      " #   Column                       Non-Null Count  Dtype         \n",
      "---  ------                       --------------  -----         \n",
      " 0   id                           4395 non-null   int64         \n",
      " 1   gender                       4384 non-null   object        \n",
      " 2   birthdate                    4372 non-null   datetime64[ns]\n",
      " 3   subject                      4365 non-null   object        \n",
      " 4   locality                     4364 non-null   object        \n",
      " 5   disability_group             4268 non-null   object        \n",
      " 6   disability_cause             4141 non-null   object        \n",
      " 7   sight_loss_etiology          4294 non-null   object        \n",
      " 8   sight_loss_age               2159 non-null   float64       \n",
      " 9   sight_condition              4305 non-null   object        \n",
      " 10  sight_loss_cause             4063 non-null   object        \n",
      " 11  hearing_loss_etiology        4269 non-null   object        \n",
      " 12  hearing_loss_age             1841 non-null   float64       \n",
      " 13  hearing_condition            4284 non-null   object        \n",
      " 14  hearing_loss_cause           4030 non-null   object        \n",
      " 15  syndrome_awareness           3441 non-null   boolean       \n",
      " 16  syndrome                     789 non-null    object        \n",
      " 17  other_diseases               4020 non-null   boolean       \n",
      " 18  diagnosis                    2408 non-null   object        \n",
      " 19  recognizable_languages       4313 non-null   object        \n",
      " 20  information_perception       4344 non-null   object        \n",
      " 21  communication_methods        4342 non-null   object        \n",
      " 22  information_sources          4333 non-null   object        \n",
      " 23  assistance_necessity         4173 non-null   object        \n",
      " 24  street_movement              4339 non-null   object        \n",
      " 25  rehabilitation_technologies  2620 non-null   object        \n",
      " 26  translator_assistance        4339 non-null   object        \n",
      " 27  education                    3384 non-null   object        \n",
      " 28  academic_degree              2061 non-null   object        \n",
      " 29  specialization               1182 non-null   object        \n",
      " 30  working                      4395 non-null   boolean       \n",
      " 31  working_willingness          4068 non-null   boolean       \n",
      " 32  living_conditions            4346 non-null   object        \n",
      " 33  recording_date               4395 non-null   datetime64[ns]\n",
      "dtypes: boolean(4), datetime64[ns](2), float64(2), int64(1), object(25)\n",
      "memory usage: 1.0+ MB\n"
     ]
    }
   ],
   "source": [
    "df.info()"
   ]
  },
  {
   "cell_type": "code",
   "execution_count": 14,
   "id": "0d8357c6",
   "metadata": {},
   "outputs": [],
   "source": [
    "engine = create_engine(f\"sqlite:///{get_database_path('db')}\", echo=False)\n",
    "with engine.begin() as connection:\n",
    "    persons.to_sql('persons', con=connection, if_exists='replace', index_label='id')\n",
    "    disability_information.to_sql('disability_information', con=connection, if_exists='replace', index_label='person_id')\n",
    "    additional_information.to_sql('additional_information', con=connection, if_exists='replace', index_label='person_id')"
   ]
  }
 ],
 "metadata": {
  "kernelspec": {
   "display_name": "Python 3 (ipykernel)",
   "language": "python",
   "name": "python3"
  },
  "language_info": {
   "codemirror_mode": {
    "name": "ipython",
    "version": 3
   },
   "file_extension": ".py",
   "mimetype": "text/x-python",
   "name": "python",
   "nbconvert_exporter": "python",
   "pygments_lexer": "ipython3",
   "version": "3.9.1"
  }
 },
 "nbformat": 4,
 "nbformat_minor": 5
}
