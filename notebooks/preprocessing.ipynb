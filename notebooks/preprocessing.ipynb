{
 "cells": [
  {
   "cell_type": "code",
   "execution_count": 1,
   "id": "d9971e93",
   "metadata": {},
   "outputs": [],
   "source": [
    "import pandas as pd\n",
    "import numpy as np\n",
    "import seaborn as sns\n",
    "from os import path, getcwd\n",
    "from sqlalchemy import create_engine"
   ]
  },
  {
   "cell_type": "code",
   "execution_count": 2,
   "id": "1932fe64",
   "metadata": {},
   "outputs": [],
   "source": [
    "DBS_DIR = \"databases\"\n",
    "def get_database_path(extension=\"csv\"):\n",
    "    db_path = f\"{DBS_DIR}/database.{extension}\"\n",
    "    return path.normpath(path.join(path.split(getcwd())[0], db_path)).replace(\"\\\\\", \"/\")"
   ]
  },
  {
   "cell_type": "code",
   "execution_count": 3,
   "id": "6d66b75e",
   "metadata": {},
   "outputs": [],
   "source": [
    "DB_PATH = get_database_path()\n",
    "df = pd.read_csv(DB_PATH)"
   ]
  },
  {
   "cell_type": "code",
   "execution_count": 5,
   "id": "7b63654c",
   "metadata": {},
   "outputs": [],
   "source": [
    "new_columns = {\n",
    "    'ID':\"id\",\n",
    "    'Пол':\"gender\", \n",
    "    'Дата рождения':\"birthdate\", \n",
    "    'Субъект РФ':\"subject\", \n",
    "    'Населенный пункт':\"locality\", \n",
    "    'Группа инвалидности':\"disability_group\", \n",
    "    'Причина инвалидности':\"disability_cause\",\n",
    "    'Этиология потери зрения':\"sight_loss_etiology\", \n",
    "    'Возраст потери зрения':\"sight_loss_age\",\n",
    "    'Состояние зрения':\"sight_condition\",\n",
    "    'Причины потери зрения':\"sight_loss_cause\",\n",
    "    'Этиология потери слуха':\"hearing_loss_etiology\", \n",
    "    'Возраст потери слуха':\"hearing_loss_age\",\n",
    "    'Состояние слуха':\"hearing_condition\",\n",
    "    'Причины потери слуха':\"hearing_loss_cause\",\n",
    "    'Знает синдром':\"syndrome_awareness\", \n",
    "    'Название синдрома':\"syndrome\",\n",
    "    'Наличие других заболеваний':\"other_diseases\",\n",
    "    'Диагноз':\"diagnosis\", \n",
    "    'Понимаемые языки':\"recognizable_languages\", \n",
    "    'Восприятие информации':\"information_perception\",\n",
    "    'Передача информации':\"communication_methods\", \n",
    "    'Источники информации':\"information_sources\", \n",
    "    'Потребность в помощи':\"assistance_necessity\",\n",
    "    'Передвижение по улице':\"street_movement\", \n",
    "    'Необходимые ТСР':\"rehabilitation_technologies\", \n",
    "    'Использование переводчика':\"translator_assistance\",\n",
    "    'Тип образования':\"education\", \n",
    "    'Ученая степень':\"academic_degree\", \n",
    "    'Специальность':\"specialization\",\n",
    "    'Работаю в данный момент':\"working\", \n",
    "    'Желание работать':\"working_willingness\", \n",
    "    'Условия проживания':\"living_conditions\"\n",
    "}\n",
    "df = df.rename(columns=new_columns)"
   ]
  },
  {
   "cell_type": "code",
   "execution_count": 6,
   "id": "99756621",
   "metadata": {},
   "outputs": [],
   "source": [
    "df[\"syndrome_awareness\"] = df[\"syndrome_awareness\"].str.replace(\"Нет, синдром не установлен или неизвестен\", \"Нет\")\n",
    "df[\"syndrome_awareness\"] = df[\"syndrome_awareness\"].str.replace(\"Да, синдром известен\", \"Да\")"
   ]
  },
  {
   "cell_type": "code",
   "execution_count": 7,
   "id": "17ab2251",
   "metadata": {},
   "outputs": [],
   "source": [
    "df[\"birthdate\"] = df[\"birthdate\"].str.replace('.', \"/\", regex=False)\n",
    "df[\"birthdate\"] = df[\"birthdate\"].str.replace('0000', \"2000\", regex=False)\n",
    "df[\"birthdate\"] = pd.to_datetime(df[\"birthdate\"], dayfirst=True)"
   ]
  },
  {
   "cell_type": "code",
   "execution_count": 9,
   "id": "46ea9654",
   "metadata": {},
   "outputs": [],
   "source": [
    "df.replace(r'^[Дд]а$', True, regex=True, inplace=True)\n",
    "df.replace(r'^[Нн]ет$', False, regex=True, inplace=True)"
   ]
  },
  {
   "cell_type": "code",
   "execution_count": 10,
   "id": "beffe313",
   "metadata": {},
   "outputs": [],
   "source": [
    "boolean_variables = [\"syndrome_awareness\", \"other_diseases\", \"working\", \"working_willingness\"]\n",
    "df[boolean_variables] = df[boolean_variables].astype(\"boolean\")"
   ]
  },
  {
   "cell_type": "code",
   "execution_count": 25,
   "id": "19ca4a0c",
   "metadata": {},
   "outputs": [],
   "source": [
    "persons_columns = df.columns[1:5]\n",
    "persons = df.loc[:, persons_columns]"
   ]
  },
  {
   "cell_type": "code",
   "execution_count": 27,
   "id": "04865eaa",
   "metadata": {},
   "outputs": [],
   "source": [
    "disability_information_columns = df.columns[5:19]\n",
    "disability_information = df.loc[:, disability_information_columns]"
   ]
  },
  {
   "cell_type": "code",
   "execution_count": 28,
   "id": "55e6120a",
   "metadata": {},
   "outputs": [],
   "source": [
    "additional_information_columns = df.columns[19:]\n",
    "additional_information = df.loc[:, additional_information_columns]"
   ]
  },
  {
   "cell_type": "code",
   "execution_count": 30,
   "id": "0d8357c6",
   "metadata": {},
   "outputs": [],
   "source": [
    "engine = create_engine(f\"sqlite:///{get_database_path('db')}\", echo=False)\n",
    "with engine.begin() as connection:\n",
    "    persons.to_sql('persons', con=connection, if_exists='replace', index_label='id')\n",
    "    disability_information.to_sql('disability_information', con=connection, if_exists='replace', index_label='person_id')\n",
    "    additional_information.to_sql('additional_information', con=connection, if_exists='replace', index_label='person_id')"
   ]
  }
 ],
 "metadata": {
  "kernelspec": {
   "display_name": "Python 3 (ipykernel)",
   "language": "python",
   "name": "python3"
  },
  "language_info": {
   "codemirror_mode": {
    "name": "ipython",
    "version": 3
   },
   "file_extension": ".py",
   "mimetype": "text/x-python",
   "name": "python",
   "nbconvert_exporter": "python",
   "pygments_lexer": "ipython3",
   "version": "3.9.1"
  }
 },
 "nbformat": 4,
 "nbformat_minor": 5
}
